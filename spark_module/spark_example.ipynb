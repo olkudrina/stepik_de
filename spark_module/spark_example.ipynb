{
 "cells": [
  {
   "cell_type": "code",
   "execution_count": 1,
   "id": "17b56d8c-d68e-44b0-9a84-f3fa5045c175",
   "metadata": {},
   "outputs": [
    {
     "name": "stdout",
     "output_type": "stream",
     "text": [
      "Starting Spark application\n"
     ]
    },
    {
     "data": {
      "text/html": [
       "<table>\n",
       "<tr><th>ID</th><th>YARN Application ID</th><th>Kind</th><th>State</th><th>Spark UI</th><th>Driver log</th><th>User</th><th>Current session?</th></tr><tr><td>3</td><td>None</td><td>pyspark</td><td>idle</td><td></td><td></td><td>None</td><td>✔</td></tr></table>"
      ],
      "text/plain": [
       "<IPython.core.display.HTML object>"
      ]
     },
     "metadata": {},
     "output_type": "display_data"
    },
    {
     "data": {
      "application/vnd.jupyter.widget-view+json": {
       "model_id": "",
       "version_major": 2,
       "version_minor": 0
      },
      "text/plain": [
       "FloatProgress(value=0.0, bar_style='info', description='Progress:', layout=Layout(height='25px', width='50%'),…"
      ]
     },
     "metadata": {},
     "output_type": "display_data"
    },
    {
     "name": "stdout",
     "output_type": "stream",
     "text": [
      "SparkSession available as 'spark'.\n"
     ]
    },
    {
     "data": {
      "application/vnd.jupyter.widget-view+json": {
       "model_id": "",
       "version_major": 2,
       "version_minor": 0
      },
      "text/plain": [
       "FloatProgress(value=0.0, bar_style='info', description='Progress:', layout=Layout(height='25px', width='50%'),…"
      ]
     },
     "metadata": {},
     "output_type": "display_data"
    }
   ],
   "source": [
    "from pyspark.sql import SparkSession\n",
    "import csv\n",
    "import random\n",
    "from faker import Faker"
   ]
  },
  {
   "cell_type": "code",
   "execution_count": 2,
   "id": "ea2c8ec4-cb5e-4947-95c0-49cf6f0ca2bb",
   "metadata": {},
   "outputs": [
    {
     "data": {
      "application/vnd.jupyter.widget-view+json": {
       "model_id": "",
       "version_major": 2,
       "version_minor": 0
      },
      "text/plain": [
       "FloatProgress(value=0.0, bar_style='info', description='Progress:', layout=Layout(height='25px', width='50%'),…"
      ]
     },
     "metadata": {},
     "output_type": "display_data"
    },
    {
     "name": "stdout",
     "output_type": "stream",
     "text": [
      "Сгенерировано 100000 записей и сохранено в web_server_logs.csv"
     ]
    }
   ],
   "source": [
    "# generate data\n",
    "fake = Faker()\n",
    "num_records = 100000\n",
    "http_methods = ['GET', 'POST', 'PUT', 'DELETE']\n",
    "response_codes = [200, 301, 404, 500]\n",
    "file_path = \"web_server_logs.csv\"\n",
    "\n",
    "\n",
    "with open(file_path, mode='w', newline='') as file:\n",
    "    writer = csv.writer(file)\n",
    "    writer.writerow(['ip', 'timestamp', 'method', 'url', 'response_code', 'response_size'])\n",
    "\n",
    "    for _ in range(num_records):\n",
    "        ip = fake.ipv4()\n",
    "        timestamp = fake.date_time_this_year().isoformat()\n",
    "        method = random.choice(http_methods)\n",
    "        url = fake.uri_path()\n",
    "        response_code = random.choice(response_codes)\n",
    "        response_size = random.randint(100, 10000)\n",
    "\n",
    "        writer.writerow([ip, timestamp, method, url, response_code, response_size])\n",
    "\n",
    "print(f\"Сгенерировано {num_records} записей и сохранено в {file_path}\")\n"
   ]
  },
  {
   "cell_type": "code",
   "execution_count": 3,
   "id": "9299c5b2-29d3-4c66-8282-f90135fdc399",
   "metadata": {},
   "outputs": [
    {
     "data": {
      "application/vnd.jupyter.widget-view+json": {
       "model_id": "",
       "version_major": 2,
       "version_minor": 0
      },
      "text/plain": [
       "FloatProgress(value=0.0, bar_style='info', description='Progress:', layout=Layout(height='25px', width='50%'),…"
      ]
     },
     "metadata": {},
     "output_type": "display_data"
    }
   ],
   "source": [
    "spark = SparkSession.builder.appName(\"spark hw\").getOrCreate()"
   ]
  },
  {
   "cell_type": "code",
   "execution_count": 4,
   "id": "ef47e1a7-6898-4879-99f3-4ddb7a164dad",
   "metadata": {},
   "outputs": [
    {
     "data": {
      "application/vnd.jupyter.widget-view+json": {
       "model_id": "",
       "version_major": 2,
       "version_minor": 0
      },
      "text/plain": [
       "FloatProgress(value=0.0, bar_style='info', description='Progress:', layout=Layout(height='25px', width='50%'),…"
      ]
     },
     "metadata": {},
     "output_type": "display_data"
    },
    {
     "name": "stdout",
     "output_type": "stream",
     "text": [
      "+-------------+--------------------+------+---------------+-------------+-------------+\n",
      "|           ip|           timestamp|method|            url|response_code|response_size|\n",
      "+-------------+--------------------+------+---------------+-------------+-------------+\n",
      "| 147.42.78.89|2024-05-12T10:01:...|   GET|   main/explore|          200|         8076|\n",
      "|190.220.32.85|2024-05-20T19:01:...|DELETE|app/tags/search|          200|         1643|\n",
      "| 4.164.111.78|2024-06-11T02:48:...|DELETE|           blog|          200|         3242|\n",
      "+-------------+--------------------+------+---------------+-------------+-------------+\n",
      "only showing top 3 rows"
     ]
    }
   ],
   "source": [
    "df = spark.read.option(\"header\", True).csv(\"web_server_logs.csv\")\n",
    "df.show(3)"
   ]
  },
  {
   "cell_type": "code",
   "execution_count": 5,
   "id": "f1826aa2-e4af-4d69-8d9f-604b8daa4387",
   "metadata": {},
   "outputs": [
    {
     "data": {
      "application/vnd.jupyter.widget-view+json": {
       "model_id": "",
       "version_major": 2,
       "version_minor": 0
      },
      "text/plain": [
       "FloatProgress(value=0.0, bar_style='info', description='Progress:', layout=Layout(height='25px', width='50%'),…"
      ]
     },
     "metadata": {},
     "output_type": "display_data"
    },
    {
     "name": "stdout",
     "output_type": "stream",
     "text": [
      "Top 10 active IP addresses: \n",
      "+---------------+-------------+\n",
      "|             ip|request_count|\n",
      "+---------------+-------------+\n",
      "|     23.8.77.59|            2|\n",
      "|     40.7.5.100|            2|\n",
      "|  33.219.76.106|            1|\n",
      "|213.186.138.123|            1|\n",
      "| 117.72.182.118|            1|\n",
      "| 110.149.94.174|            1|\n",
      "|   118.4.49.188|            1|\n",
      "|139.160.220.134|            1|\n",
      "|  156.69.248.44|            1|\n",
      "|206.115.227.235|            1|\n",
      "+---------------+-------------+\n",
      "only showing top 10 rows"
     ]
    }
   ],
   "source": [
    "# 1. Сгруппируйте данные по IP и посчитайте количество запросов для каждого IP, выводим 10 самых активных IP\n",
    "from pyspark.sql.functions import desc, asc\n",
    "\n",
    "grouped_df = df.select('ip', 'url').groupby('ip').count().withColumnRenamed('count', 'request_count')\n",
    "print('Top 10 active IP addresses: ')\n",
    "grouped_df.sort(grouped_df['request_count'].desc()).show(10)"
   ]
  },
  {
   "cell_type": "code",
   "execution_count": 6,
   "id": "f4a27689-c3d1-4220-99f5-3c3a42060182",
   "metadata": {},
   "outputs": [
    {
     "data": {
      "application/vnd.jupyter.widget-view+json": {
       "model_id": "",
       "version_major": 2,
       "version_minor": 0
      },
      "text/plain": [
       "FloatProgress(value=0.0, bar_style='info', description='Progress:', layout=Layout(height='25px', width='50%'),…"
      ]
     },
     "metadata": {},
     "output_type": "display_data"
    },
    {
     "name": "stdout",
     "output_type": "stream",
     "text": [
      "Request count by HTTP method: \n",
      "+------+------------+\n",
      "|method|method_count|\n",
      "+------+------------+\n",
      "|   PUT|       25024|\n",
      "|   GET|       25020|\n",
      "|  POST|       24987|\n",
      "|DELETE|       24969|\n",
      "+------+------------+"
     ]
    }
   ],
   "source": [
    "# 2. Сгруппируйте данные по HTTP-методу и посчитайте количество запросов для каждого метода.\n",
    "grouped_df = df.select('method', 'url').groupby('method').count().withColumnRenamed('count', 'method_count')\n",
    "print('Request count by HTTP method: ')\n",
    "grouped_df.sort(grouped_df['method_count'].desc()).show()"
   ]
  },
  {
   "cell_type": "code",
   "execution_count": 7,
   "id": "53d8d3c0-8ac0-41e3-9ff1-88639b022b2f",
   "metadata": {},
   "outputs": [
    {
     "data": {
      "application/vnd.jupyter.widget-view+json": {
       "model_id": "",
       "version_major": 2,
       "version_minor": 0
      },
      "text/plain": [
       "FloatProgress(value=0.0, bar_style='info', description='Progress:', layout=Layout(height='25px', width='50%'),…"
      ]
     },
     "metadata": {},
     "output_type": "display_data"
    },
    {
     "name": "stdout",
     "output_type": "stream",
     "text": [
      "Number of 404 response codes is 24945"
     ]
    }
   ],
   "source": [
    "#3. Профильтруйте и посчитайте количество запросов с кодом ответа 404.\n",
    "result = df.filter(df['response_code']==404).count()\n",
    "print(f'Number of 404 response codes is {result}')"
   ]
  },
  {
   "cell_type": "code",
   "execution_count": 8,
   "id": "3e1db296-502e-4185-b15d-1c50a4d19369",
   "metadata": {},
   "outputs": [
    {
     "data": {
      "application/vnd.jupyter.widget-view+json": {
       "model_id": "",
       "version_major": 2,
       "version_minor": 0
      },
      "text/plain": [
       "FloatProgress(value=0.0, bar_style='info', description='Progress:', layout=Layout(height='25px', width='50%'),…"
      ]
     },
     "metadata": {},
     "output_type": "display_data"
    }
   ],
   "source": [
    "from pyspark.sql.types import DateType, IntegerType"
   ]
  },
  {
   "cell_type": "code",
   "execution_count": 9,
   "id": "20539136-f716-466c-95b3-67781f43365b",
   "metadata": {},
   "outputs": [
    {
     "data": {
      "application/vnd.jupyter.widget-view+json": {
       "model_id": "",
       "version_major": 2,
       "version_minor": 0
      },
      "text/plain": [
       "FloatProgress(value=0.0, bar_style='info', description='Progress:', layout=Layout(height='25px', width='50%'),…"
      ]
     },
     "metadata": {},
     "output_type": "display_data"
    },
    {
     "name": "stdout",
     "output_type": "stream",
     "text": [
      "Total response size by day: \n",
      "+----------+-------------------+\n",
      "|      date|total_response_size|\n",
      "+----------+-------------------+\n",
      "|2024-01-01|            1941839|\n",
      "|2024-01-02|            1763470|\n",
      "|2024-01-03|            1811044|\n",
      "|2024-01-04|            1859343|\n",
      "|2024-01-05|            2012067|\n",
      "|2024-01-06|            1909545|\n",
      "|2024-01-07|            1849481|\n",
      "|2024-01-08|            1849345|\n",
      "|2024-01-09|            1887913|\n",
      "|2024-01-10|            1945081|\n",
      "+----------+-------------------+\n",
      "only showing top 10 rows"
     ]
    }
   ],
   "source": [
    "#4. Сгруппируйте данные по дате и просуммируйте размер ответов, сортируйте по дате.\n",
    "\n",
    "df = (\n",
    "    df\n",
    "    .withColumn('date', df['timestamp'].cast(\"date\"))\n",
    "    .withColumn('response_size', df['response_size'].cast(\"int\"))\n",
    ")\n",
    "\n",
    "grouped_df = df.select('date', 'response_size').groupby('date').sum().withColumnRenamed('sum(response_size)', 'total_response_size')\n",
    "print('Total response size by day: ')\n",
    "grouped_df.sort(grouped_df['date'].asc()).show(10)"
   ]
  }
 ],
 "metadata": {
  "kernelspec": {
   "display_name": "PySpark",
   "language": "python",
   "name": "pysparkkernel"
  },
  "language_info": {
   "codemirror_mode": {
    "name": "python",
    "version": 3
   },
   "file_extension": ".py",
   "mimetype": "text/x-python",
   "name": "pyspark",
   "pygments_lexer": "python3"
  }
 },
 "nbformat": 4,
 "nbformat_minor": 5
}
